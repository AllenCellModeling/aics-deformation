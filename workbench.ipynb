{
 "cells": [
  {
   "cell_type": "markdown",
   "metadata": {},
   "source": [
    "# Image"
   ]
  },
  {
   "cell_type": "code",
   "execution_count": null,
   "metadata": {},
   "outputs": [],
   "source": [
    "from aicsdeformation import AICSDeformation\n",
    "import tifffile\n",
    "\n",
    "cardio = tifffile.imread(\"data/piv.tiff\")\n",
    "cardio = AICSDeformation(cardio, t_index = 0)\n",
    "cardio"
   ]
  },
  {
   "cell_type": "markdown",
   "metadata": {},
   "source": [
    "# Processing: Grid Search"
   ]
  },
  {
   "cell_type": "code",
   "execution_count": null,
   "metadata": {},
   "outputs": [],
   "source": [
    "from aicsdeformation import processing\n",
    "\n",
    "grid = processing.grid_search_displacements((cardio[0], cardio[3]))\n",
    "grid"
   ]
  },
  {
   "cell_type": "markdown",
   "metadata": {},
   "source": [
    "# Deformation: Streamline Plots"
   ]
  },
  {
   "cell_type": "code",
   "execution_count": null,
   "metadata": {},
   "outputs": [],
   "source": [
    "# Best displacement parameters found from grid search against ~50,000 parameter sets\n",
    "# {'window_size': 40, 'overlap': 7, 'dt': 0.0045000000000000005, 'search_area_size': 40}\n",
    "cardio.generate_displacements(\n",
    "    window_size=40,\n",
    "    overlap=7,\n",
    "    dt=0.0045,\n",
    "    search_area_size=26\n",
    ")\n",
    "cardio.displacements"
   ]
  },
  {
   "cell_type": "code",
   "execution_count": null,
   "metadata": {},
   "outputs": [],
   "source": [
    "import matplotlib.pyplot as plt\n",
    "%matplotlib inline\n",
    "\n",
    "fig, axes = plt.subplots(11, int(len(cardio.displacements) / 11), figsize=(30, 20))\n",
    "for i, ax in enumerate(axes.flatten()):\n",
    "    ax.streamplot(\n",
    "        cardio.displacements[i].x,\n",
    "        cardio.displacements[i].y,\n",
    "        cardio.displacements[i].u,\n",
    "        cardio.displacements[i].v,\n",
    "        density=[0.5, 1]\n",
    "    )\n",
    "    ax.set_title(f\"From: {i}, To: {i + 1}\")\n",
    "    \n",
    "plt.show()"
   ]
  },
  {
   "cell_type": "markdown",
   "metadata": {},
   "source": [
    "# Deformation: Streamline Plot Overlaid On Animated Cardio"
   ]
  },
  {
   "cell_type": "code",
   "execution_count": null,
   "metadata": {},
   "outputs": [],
   "source": [
    "from aicsdeformation import processing\n",
    "import matplotlib\n",
    "import matplotlib.animation\n",
    "import matplotlib.pyplot as plt\n",
    "%matplotlib inline\n",
    "from IPython.display import HTML, Image\n",
    "matplotlib.rc('animation', html='html5')\n",
    "\n",
    "def animate_frames_and_streams(frames, window_size=40, overlap=7, dt=0.0045, search_area_size=40):\n",
    "    # Create displacement\n",
    "    entry = processing.calculate_displacement(\n",
    "        frames,\n",
    "        window_size=window_size,\n",
    "        overlap=overlap,\n",
    "        dt=dt,\n",
    "        search_area_size=search_area_size\n",
    "    )\n",
    "    processed = processing.process_displacement(entry,\n",
    "        image_size=frames[0].shape,\n",
    "        window_size=window_size,\n",
    "        overlap=overlap\n",
    "    )\n",
    "    \n",
    "    fig = plt.figure(figsize=(10,10));\n",
    "    ax = fig.add_axes([0,0,1,1])\n",
    "    ax.axis('off');\n",
    "    ax.streamplot(processed.x, processed.y, processed.u, processed.v, color='w')\n",
    "    xmin, xmax = ax.get_xlim()\n",
    "    ymin, ymax = ax.get_ylim()\n",
    "    image = ax.imshow(frames[0], extent=[xmin, xmax, ymin, ymax])\n",
    "\n",
    "    def animate(i):\n",
    "        image.set_data(frames[i%len(frames)])\n",
    "        return (image, )\n",
    "\n",
    "    anim = matplotlib.animation.FuncAnimation(fig,\n",
    "        animate,\n",
    "        frames=len(frames),\n",
    "        interval=1000,\n",
    "        blit=True\n",
    "    )\n",
    "    \n",
    "    plt.close(fig)\n",
    "    return anim"
   ]
  },
  {
   "cell_type": "code",
   "execution_count": null,
   "metadata": {},
   "outputs": [],
   "source": [
    "HTML(animate_frames_and_streams((cardio[0], cardio[3])).to_html5_video())"
   ]
  }
 ],
 "metadata": {
  "kernelspec": {
   "display_name": "Python 3",
   "language": "python",
   "name": "python3"
  },
  "language_info": {
   "codemirror_mode": {
    "name": "ipython",
    "version": 3
   },
   "file_extension": ".py",
   "mimetype": "text/x-python",
   "name": "python",
   "nbconvert_exporter": "python",
   "pygments_lexer": "ipython3",
   "version": "3.7.2"
  }
 },
 "nbformat": 4,
 "nbformat_minor": 2
}
